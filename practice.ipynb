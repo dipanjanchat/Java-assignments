{
 "cells": [
  {
   "cell_type": "code",
   "execution_count": 25,
   "id": "666e6cd2",
   "metadata": {},
   "outputs": [
    {
     "name": "stdout",
     "output_type": "stream",
     "text": [
      "johny\n",
      "bony\n",
      "rony\n",
      "boony\n"
     ]
    }
   ],
   "source": [
    "f=open(\"abc.txt\",\"r\")\n",
    "data=f.read()\n",
    "print(data)\n",
    "f.close()"
   ]
  },
  {
   "cell_type": "code",
   "execution_count": 10,
   "id": "1140e1af",
   "metadata": {},
   "outputs": [
    {
     "name": "stdout",
     "output_type": "stream",
     "text": [
      "Data is written successfully...\n"
     ]
    }
   ],
   "source": [
    "f=open(\"abc.txt\",\"w\")\n",
    "f.write(\"sunny\\t\")\n",
    "f.write(\"bunny\\t\")\n",
    "f.write(\"vinny\\t\")\n",
    "f.write(\"chinny\")\n",
    "print(\"Data is written successfully...\")\n",
    "f.close()"
   ]
  },
  {
   "cell_type": "code",
   "execution_count": 8,
   "id": "86ab44b9",
   "metadata": {},
   "outputs": [
    {
     "name": "stdout",
     "output_type": "stream",
     "text": [
      "\n",
      "sunny\n",
      "bunny\n",
      "vinny\n",
      "chinny\n",
      "File name: abc.txt\n",
      "File mode: r\n",
      "is file readable?  True\n",
      "is file writable False\n",
      "is file close?  False\n",
      "now,is file close?  True\n"
     ]
    }
   ],
   "source": [
    "f=open(\"abc.txt\",\"r\")\n",
    "data=f.read()\n",
    "print(data)\n",
    "print(\"File name:\",f.name)\n",
    "print(\"File mode:\",f.mode)\n",
    "print(\"is file readable? \",f.readable())\n",
    "print(\"is file writable\",f.writable())\n",
    "print(\"is file close? \",f.closed)\n",
    "f.close()\n",
    "print(\"now,is file close? \",f.closed)"
   ]
  },
  {
   "cell_type": "code",
   "execution_count": 23,
   "id": "fa2ad7cf",
   "metadata": {},
   "outputs": [
    {
     "name": "stdout",
     "output_type": "stream",
     "text": [
      "Data is written successfully...\n"
     ]
    }
   ],
   "source": [
    "f=open(\"abc.txt\",\"w\")\n",
    "l=[\"johny\\n\",\"bony\\n\",\"rony\\n\",\"boony\"]\n",
    "f.writelines(l)\n",
    "print(\"Data is written successfully...\")\n",
    "f.close()"
   ]
  },
  {
   "cell_type": "code",
   "execution_count": 20,
   "id": "8bc8df36",
   "metadata": {},
   "outputs": [
    {
     "name": "stdout",
     "output_type": "stream",
     "text": [
      "johny\tbony\n",
      "rony\tboony"
     ]
    }
   ],
   "source": [
    "f=open(\"abc.txt\",\"r\")\n",
    "lines=f.readlines()\n",
    "for line in lines:\n",
    "    print(line,end=\"\")\n",
    "f.close()"
   ]
  },
  {
   "cell_type": "code",
   "execution_count": 24,
   "id": "b7273258",
   "metadata": {},
   "outputs": [
    {
     "name": "stdout",
     "output_type": "stream",
     "text": [
      "johny\n",
      "\n",
      "bo\n",
      "ny\n",
      "rony\n",
      "bo\n"
     ]
    }
   ],
   "source": [
    "f=open(\"abc.txt\",\"r\")\n",
    "print(f.read(6))\n",
    "print(f.read(2))\n",
    "print(f.read(10))\n",
    "f.close()"
   ]
  },
  {
   "cell_type": "code",
   "execution_count": 26,
   "id": "550b6482",
   "metadata": {},
   "outputs": [
    {
     "name": "stdout",
     "output_type": "stream",
     "text": [
      "is fie closed: False\n",
      "is fie closed: True\n"
     ]
    }
   ],
   "source": [
    "with open(\"abc.txt\",\"w\") as f:\n",
    "    f.write(\"Durga\\n\")\n",
    "    f.write(\"Software\\n\")\n",
    "    f.write(\"Solutions\\n\")\n",
    "    print(\"is fie closed:\",f.closed)\n",
    "print(\"is fie closed:\",f.closed)"
   ]
  },
  {
   "cell_type": "code",
   "execution_count": null,
   "id": "9ad2e1af",
   "metadata": {},
   "outputs": [],
   "source": [
    "f=open(\"abc.txt\",\"r\")"
   ]
  }
 ],
 "metadata": {
  "kernelspec": {
   "display_name": "Python 3 (ipykernel)",
   "language": "python",
   "name": "python3"
  },
  "language_info": {
   "codemirror_mode": {
    "name": "ipython",
    "version": 3
   },
   "file_extension": ".py",
   "mimetype": "text/x-python",
   "name": "python",
   "nbconvert_exporter": "python",
   "pygments_lexer": "ipython3",
   "version": "3.11.5"
  }
 },
 "nbformat": 4,
 "nbformat_minor": 5
}
